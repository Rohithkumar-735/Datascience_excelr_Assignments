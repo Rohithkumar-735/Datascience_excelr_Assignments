{
 "cells": [
  {
   "attachments": {},
   "cell_type": "markdown",
   "id": "98102d24",
   "metadata": {},
   "source": [
    "##### Problem Statment\n",
    "A F&B manager wants to determine whether there is any significant difference in the diameter of the cutlet between two units. A randomly selected sample of cutlets was collected from both units and measured? Analyze the data and draw inferences at 5% significance level. Please state the assumptions and tests that you carried out to check validity of the assumptions."
   ]
  },
  {
   "cell_type": "markdown",
   "id": "2515dc13",
   "metadata": {},
   "source": [
    "##### Business Problem\n",
    " Is there any significant difference in the diameter of the cutlet between two units ?\n",
    " \n",
    " Significance level (alpha) = 0.05"
   ]
  },
  {
   "cell_type": "code",
   "execution_count": 1,
   "id": "dd344ae6",
   "metadata": {},
   "outputs": [],
   "source": [
    "#Modules\n",
    "import pandas as pd\n",
    "from scipy.stats import ttest_ind, shapiro"
   ]
  },
  {
   "cell_type": "markdown",
   "id": "90c8cb4c",
   "metadata": {},
   "source": [
    "##### Data Exploration"
   ]
  },
  {
   "cell_type": "code",
   "execution_count": 2,
   "id": "ba130b73",
   "metadata": {},
   "outputs": [
    {
     "name": "stdout",
     "output_type": "stream",
     "text": [
      "No of samples : 35 \n",
      "\n",
      "   Unit A  Unit B\n",
      "0  6.8090  6.7703\n",
      "1  6.4376  7.5093\n",
      "2  6.9157  6.7300\n",
      "3  7.3012  6.7878\n",
      "4  7.4488  7.1522\n"
     ]
    }
   ],
   "source": [
    "#Data Import\n",
    "df = pd.read_csv('Cutlets.csv')\n",
    "print('No of samples :',len(df['Unit A']),'\\n')\n",
    "print(df.head())"
   ]
  },
  {
   "cell_type": "markdown",
   "id": "0e007194",
   "metadata": {},
   "source": [
    "Normality\n",
    "\n",
    "By using Shapiro-wilk Test and Null hypothesis."
   ]
  },
  {
   "cell_type": "code",
   "execution_count": 3,
   "id": "c03fcc9d",
   "metadata": {},
   "outputs": [
    {
     "name": "stdout",
     "output_type": "stream",
     "text": [
      "0.31998491287231445\n",
      "H1 is rejected and Ho is accepted\n",
      "Data of Unit A is normal distribution\n",
      "0.5225146412849426\n",
      "H1 is rejected and Ho is accepted\n",
      "Data of Unit B is normal distribution\n"
     ]
    }
   ],
   "source": [
    "# Conduct the Shapiro-Wilk Test\n",
    "statistic,pvalue =shapiro(df['Unit A'])\n",
    " \n",
    "#Null Hypothesis\n",
    "print(pvalue)\n",
    "alpha= 0.05\n",
    " \n",
    "#H0 Data is normal distribution\n",
    "#H1 Data is not normal distribution\n",
    " \n",
    "if pvalue < alpha:\n",
    "    print (\"Ho is rejected and H1 is accepted\")\n",
    "    print ('Data of Unit A is not normal distribution')\n",
    "else:\n",
    "    print (\"H1 is rejected and Ho is accepted\")\n",
    "    print ('Data of Unit A is normal distribution')\n",
    " \n",
    "statistic, pvalue =shapiro(df['Unit B'])\n",
    "#Null Hypothesis\n",
    "print(pvalue)\n",
    "alpha= 0.05\n",
    "#H0 Data is normal distribution\n",
    "#H1 Data is not normal distribution\n",
    "\n",
    "if pvalue < alpha:\n",
    "    print (\"Ho is rejected and H1 is accepted\")\n",
    "    print ('Data of Unit B is not normal distribution')\n",
    "else:\n",
    "    print (\"H1 is rejected and Ho is accepted\")\n",
    "    print ('Data of Unit B is normal distribution')"
   ]
  },
  {
   "cell_type": "markdown",
   "id": "26b40341",
   "metadata": {},
   "source": [
    "Both Unit-A and Unit-B are following normal distribution."
   ]
  },
  {
   "cell_type": "markdown",
   "id": "31c2b385",
   "metadata": {},
   "source": [
    "##### Selction of Model and deployment \n",
    "Hypothesis for two sample mean \n",
    "By using two sample hypothesis test "
   ]
  },
  {
   "cell_type": "code",
   "execution_count": 4,
   "id": "85b445cf",
   "metadata": {},
   "outputs": [
    {
     "name": "stdout",
     "output_type": "stream",
     "text": [
      "0.4722394724599501\n",
      "H1 is rejected and Ho is accepted\n",
      "No significant difference in the diameter\n"
     ]
    }
   ],
   "source": [
    " statistic,pvalue =ttest_ind(df['Unit A'],df['Unit B'])\n",
    " \n",
    "#Null Hypothesis\n",
    "print(pvalue)\n",
    "alpha= 0.05\n",
    " \n",
    "#H0 No significant difference in the diameter\n",
    "#H1 Significant difference in the diameter\n",
    " \n",
    "if pvalue < alpha:\n",
    "    print (\"Ho is rejected and H1 is accepted\")\n",
    "    print ('Significant difference in the diameter')\n",
    "else:\n",
    "    print (\"H1 is rejected and Ho is accepted\")\n",
    "    print ('No significant difference in the diameter')"
   ]
  },
  {
   "cell_type": "markdown",
   "id": "5e58ca45",
   "metadata": {},
   "source": [
    "##### Conclusion\n",
    "From two sample mean hypothesis we get pvalue greater than the alpha value. So, we conclude that there is no significant difference in diameter of the cutlet between two units."
   ]
  }
 ],
 "metadata": {
  "kernelspec": {
   "display_name": "Python 3 (ipykernel)",
   "language": "python",
   "name": "python3"
  },
  "language_info": {
   "codemirror_mode": {
    "name": "ipython",
    "version": 3
   },
   "file_extension": ".py",
   "mimetype": "text/x-python",
   "name": "python",
   "nbconvert_exporter": "python",
   "pygments_lexer": "ipython3",
   "version": "3.9.13"
  }
 },
 "nbformat": 4,
 "nbformat_minor": 5
}
