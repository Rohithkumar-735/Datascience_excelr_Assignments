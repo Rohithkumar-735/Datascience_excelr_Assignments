{
 "cells": [
  {
   "cell_type": "code",
   "execution_count": 1,
   "id": "cacd290a",
   "metadata": {
    "executionInfo": {
     "elapsed": 2350,
     "status": "ok",
     "timestamp": 1671109668324,
     "user": {
      "displayName": "Colab Rohith",
      "userId": "10732622787011341073"
     },
     "user_tz": -330
    },
    "id": "cacd290a"
   },
   "outputs": [],
   "source": [
    "#imortimg Modules\n",
    "import numpy as np\n",
    "import pandas as pd\n",
    "import matplotlib.pyplot as plt"
   ]
  },
  {
   "cell_type": "markdown",
   "id": "89b55612",
   "metadata": {},
   "source": [
    "#pip install google"
   ]
  },
  {
   "cell_type": "markdown",
   "id": "18c411b3",
   "metadata": {
    "id": "18c411b3"
   },
   "source": [
    "For exporting data frame to csv\n",
    "\n",
    "```\n",
    "df.to_csv('file_locaion.csv', header=True, index=True); Header: column name, Index of row \n",
    "```\n",
    "\n",
    "File location can be complete path or relative path(Direcotry of python file)"
   ]
  },
  {
   "cell_type": "markdown",
   "id": "7de08adf",
   "metadata": {
    "colab": {
     "base_uri": "https://localhost:8080/"
    },
    "executionInfo": {
     "elapsed": 14263,
     "status": "ok",
     "timestamp": 1671109684637,
     "user": {
      "displayName": "Colab Rohith",
      "userId": "10732622787011341073"
     },
     "user_tz": -330
    },
    "id": "A5a3n49J39jS",
    "outputId": "1fc140df-6fca-44f6-d2dd-0f86be8966b6"
   },
   "source": [
    "#import to goggle colab from Gdrive\n",
    "\n",
    "```\n",
    "from google.colab import drive\n",
    "drive.mount('/content/drive/', force_remount=True) \n",
    "```"
   ]
  },
  {
   "cell_type": "markdown",
   "id": "H1BdaRkv8H4-",
   "metadata": {
    "id": "H1BdaRkv8H4-"
   },
   "source": [
    "To import from local system use following snippet\n",
    "\n",
    "\n",
    "\n",
    "```\n",
    "from google.colab import files\n",
    "file_name = files.upload()\n",
    "```\n",
    "\n",
    "\n",
    "\n"
   ]
  },
  {
   "cell_type": "code",
   "execution_count": 4,
   "id": "bb3ee2e9",
   "metadata": {
    "colab": {
     "base_uri": "https://localhost:8080/"
    },
    "executionInfo": {
     "elapsed": 88,
     "status": "ok",
     "timestamp": 1671109684639,
     "user": {
      "displayName": "Colab Rohith",
      "userId": "10732622787011341073"
     },
     "user_tz": -330
    },
    "id": "bb3ee2e9",
    "outputId": "89ad5b5f-8b59-4963-d4be-2973b27c6b79"
   },
   "outputs": [
    {
     "name": "stdout",
     "output_type": "stream",
     "text": [
      "       Unnamed: 0  Points  Score  Weigh\n",
      "0       Mazda RX4    3.90  2.620  16.46\n",
      "1   Mazda RX4 Wag    3.90  2.875  17.02\n",
      "2      Datsun 710    3.85  2.320  18.61\n",
      "3  Hornet 4 Drive    3.08  3.215  19.44\n"
     ]
    },
    {
     "data": {
      "text/plain": [
       "Unnamed: 0     object\n",
       "Points        float64\n",
       "Score         float64\n",
       "Weigh         float64\n",
       "dtype: object"
      ]
     },
     "execution_count": 4,
     "metadata": {},
     "output_type": "execute_result"
    }
   ],
   "source": [
    "# Importing Data Set in Pandas format(i.e. Dataframe)\n",
    "'''\n",
    "Using drive as parent directory find the path of the file\n",
    "''' \n",
    "#df = pd.read_csv(\"drive/My Drive/Rohith/Assignments/Assig-1/Q7.csv\")\n",
    "df = pd.read_csv('C:\\\\Users\\\\nanir\\\\OneDrive\\\\excelR\\\\Assignments\\\\Assig-1\\\\Q7.csv')\n",
    "print(df.head(4))\n",
    "df.dtypes # Data type of columns values"
   ]
  },
  {
   "cell_type": "code",
   "execution_count": 5,
   "id": "1c08f2cc",
   "metadata": {
    "colab": {
     "base_uri": "https://localhost:8080/",
     "height": 300
    },
    "executionInfo": {
     "elapsed": 83,
     "status": "ok",
     "timestamp": 1671109684640,
     "user": {
      "displayName": "Colab Rohith",
      "userId": "10732622787011341073"
     },
     "user_tz": -330
    },
    "id": "1c08f2cc",
    "outputId": "78bddee1-eb86-472f-c44a-2d5f7798cfaf"
   },
   "outputs": [
    {
     "data": {
      "text/html": [
       "<div>\n",
       "<style scoped>\n",
       "    .dataframe tbody tr th:only-of-type {\n",
       "        vertical-align: middle;\n",
       "    }\n",
       "\n",
       "    .dataframe tbody tr th {\n",
       "        vertical-align: top;\n",
       "    }\n",
       "\n",
       "    .dataframe thead th {\n",
       "        text-align: right;\n",
       "    }\n",
       "</style>\n",
       "<table border=\"1\" class=\"dataframe\">\n",
       "  <thead>\n",
       "    <tr style=\"text-align: right;\">\n",
       "      <th></th>\n",
       "      <th>Points</th>\n",
       "      <th>Score</th>\n",
       "      <th>Weigh</th>\n",
       "    </tr>\n",
       "  </thead>\n",
       "  <tbody>\n",
       "    <tr>\n",
       "      <th>count</th>\n",
       "      <td>32.000000</td>\n",
       "      <td>32.000000</td>\n",
       "      <td>32.000000</td>\n",
       "    </tr>\n",
       "    <tr>\n",
       "      <th>mean</th>\n",
       "      <td>3.596563</td>\n",
       "      <td>3.217250</td>\n",
       "      <td>17.848750</td>\n",
       "    </tr>\n",
       "    <tr>\n",
       "      <th>std</th>\n",
       "      <td>0.534679</td>\n",
       "      <td>0.978457</td>\n",
       "      <td>1.786943</td>\n",
       "    </tr>\n",
       "    <tr>\n",
       "      <th>min</th>\n",
       "      <td>2.760000</td>\n",
       "      <td>1.513000</td>\n",
       "      <td>14.500000</td>\n",
       "    </tr>\n",
       "    <tr>\n",
       "      <th>25%</th>\n",
       "      <td>3.080000</td>\n",
       "      <td>2.581250</td>\n",
       "      <td>16.892500</td>\n",
       "    </tr>\n",
       "    <tr>\n",
       "      <th>50%</th>\n",
       "      <td>3.695000</td>\n",
       "      <td>3.325000</td>\n",
       "      <td>17.710000</td>\n",
       "    </tr>\n",
       "    <tr>\n",
       "      <th>75%</th>\n",
       "      <td>3.920000</td>\n",
       "      <td>3.610000</td>\n",
       "      <td>18.900000</td>\n",
       "    </tr>\n",
       "    <tr>\n",
       "      <th>max</th>\n",
       "      <td>4.930000</td>\n",
       "      <td>5.424000</td>\n",
       "      <td>22.900000</td>\n",
       "    </tr>\n",
       "  </tbody>\n",
       "</table>\n",
       "</div>"
      ],
      "text/plain": [
       "          Points      Score      Weigh\n",
       "count  32.000000  32.000000  32.000000\n",
       "mean    3.596563   3.217250  17.848750\n",
       "std     0.534679   0.978457   1.786943\n",
       "min     2.760000   1.513000  14.500000\n",
       "25%     3.080000   2.581250  16.892500\n",
       "50%     3.695000   3.325000  17.710000\n",
       "75%     3.920000   3.610000  18.900000\n",
       "max     4.930000   5.424000  22.900000"
      ]
     },
     "execution_count": 5,
     "metadata": {},
     "output_type": "execute_result"
    }
   ],
   "source": [
    "df.describe() #for Description of numerical data in data frame"
   ]
  },
  {
   "cell_type": "code",
   "execution_count": 6,
   "id": "d7666290",
   "metadata": {
    "colab": {
     "base_uri": "https://localhost:8080/"
    },
    "executionInfo": {
     "elapsed": 81,
     "status": "ok",
     "timestamp": 1671109684642,
     "user": {
      "displayName": "Colab Rohith",
      "userId": "10732622787011341073"
     },
     "user_tz": -330
    },
    "id": "d7666290",
    "outputId": "175cb72f-92c9-4305-b8f9-a6f5d4c9e0a1"
   },
   "outputs": [
    {
     "data": {
      "text/plain": [
       "[3.5965625000000006, 3.2172499999999995, 17.848750000000003]"
      ]
     },
     "execution_count": 6,
     "metadata": {},
     "output_type": "execute_result"
    }
   ],
   "source": [
    "mean=[df['Points'].mean(),df['Score'].mean(),df['Weigh'].mean()]\n",
    "mean"
   ]
  },
  {
   "cell_type": "code",
   "execution_count": 7,
   "id": "87ef870c",
   "metadata": {
    "colab": {
     "base_uri": "https://localhost:8080/"
    },
    "executionInfo": {
     "elapsed": 77,
     "status": "ok",
     "timestamp": 1671109684643,
     "user": {
      "displayName": "Colab Rohith",
      "userId": "10732622787011341073"
     },
     "user_tz": -330
    },
    "id": "87ef870c",
    "outputId": "aca747fe-97f2-45fb-c578-fb1c53d5c318"
   },
   "outputs": [
    {
     "name": "stderr",
     "output_type": "stream",
     "text": [
      "C:\\Users\\nanir\\AppData\\Local\\Temp\\ipykernel_5152\\1702121227.py:1: FutureWarning: Dropping of nuisance columns in DataFrame reductions (with 'numeric_only=None') is deprecated; in a future version this will raise TypeError.  Select only valid columns before calling the reduction.\n",
      "  Mean=[df.mean(numeric_only=None)[i] for i in range(3)]\n"
     ]
    },
    {
     "data": {
      "text/plain": [
       "[3.5965625000000006, 3.2172499999999995, 17.848750000000003]"
      ]
     },
     "execution_count": 7,
     "metadata": {},
     "output_type": "execute_result"
    }
   ],
   "source": [
    "Mean=[df.mean(numeric_only=None)[i] for i in range(3)]\n",
    "Mean"
   ]
  },
  {
   "cell_type": "code",
   "execution_count": 8,
   "id": "IgkSIcn_DLmW",
   "metadata": {
    "colab": {
     "base_uri": "https://localhost:8080/"
    },
    "executionInfo": {
     "elapsed": 74,
     "status": "ok",
     "timestamp": 1671109684645,
     "user": {
      "displayName": "Colab Rohith",
      "userId": "10732622787011341073"
     },
     "user_tz": -330
    },
    "id": "IgkSIcn_DLmW",
    "outputId": "f18dd797-d659-420f-bdae-a19471b12fe8"
   },
   "outputs": [
    {
     "name": "stderr",
     "output_type": "stream",
     "text": [
      "C:\\Users\\nanir\\AppData\\Local\\Temp\\ipykernel_5152\\2757758751.py:1: FutureWarning: Dropping of nuisance columns in DataFrame reductions (with 'numeric_only=None') is deprecated; in a future version this will raise TypeError.  Select only valid columns before calling the reduction.\n",
      "  Median=[df.median(numeric_only=None)[i] for i in range(3)]\n"
     ]
    },
    {
     "data": {
      "text/plain": [
       "[3.6950000000000003, 3.325, 17.71]"
      ]
     },
     "execution_count": 8,
     "metadata": {},
     "output_type": "execute_result"
    }
   ],
   "source": [
    "Median=[df.median(numeric_only=None)[i] for i in range(3)]\n",
    "Median"
   ]
  },
  {
   "cell_type": "code",
   "execution_count": 9,
   "id": "6723e616",
   "metadata": {
    "colab": {
     "base_uri": "https://localhost:8080/"
    },
    "executionInfo": {
     "elapsed": 71,
     "status": "ok",
     "timestamp": 1671109684646,
     "user": {
      "displayName": "Colab Rohith",
      "userId": "10732622787011341073"
     },
     "user_tz": -330
    },
    "id": "6723e616",
    "outputId": "c86e4612-2cff-4a51-cc23-5bc7d0fe7ace"
   },
   "outputs": [
    {
     "data": {
      "text/plain": [
       "[[3.07, 3.92], 3.44, [17.02, 18.9]]"
      ]
     },
     "execution_count": 9,
     "metadata": {},
     "output_type": "execute_result"
    }
   ],
   "source": [
    "mode=[[df['Points'].mode()[0],df['Points'].mode()[1]],df['Score'].mode()[0],[df['Weigh'].mode()[0],df['Weigh'].mode()[1]]]\n",
    "mode"
   ]
  },
  {
   "cell_type": "code",
   "execution_count": 10,
   "id": "51cb6c20",
   "metadata": {
    "colab": {
     "base_uri": "https://localhost:8080/"
    },
    "executionInfo": {
     "elapsed": 67,
     "status": "ok",
     "timestamp": 1671109684648,
     "user": {
      "displayName": "Colab Rohith",
      "userId": "10732622787011341073"
     },
     "user_tz": -330
    },
    "id": "51cb6c20",
    "outputId": "0aed866e-4b88-453e-f754-0696fcdc6b3a"
   },
   "outputs": [
    {
     "name": "stderr",
     "output_type": "stream",
     "text": [
      "C:\\Users\\nanir\\AppData\\Local\\Temp\\ipykernel_5152\\3093959648.py:1: FutureWarning: Dropping of nuisance columns in DataFrame reductions (with 'numeric_only=None') is deprecated; in a future version this will raise TypeError.  Select only valid columns before calling the reduction.\n",
      "  std = [df.std(numeric_only=None)[i] for i in range(3)]\n"
     ]
    },
    {
     "data": {
      "text/plain": [
       "[0.5346787360709716, 0.9784574429896967, 1.7869432360968431]"
      ]
     },
     "execution_count": 10,
     "metadata": {},
     "output_type": "execute_result"
    }
   ],
   "source": [
    "std = [df.std(numeric_only=None)[i] for i in range(3)]\n",
    "std"
   ]
  },
  {
   "cell_type": "code",
   "execution_count": 11,
   "id": "Q0Cf2KsCxh0d",
   "metadata": {
    "colab": {
     "base_uri": "https://localhost:8080/"
    },
    "executionInfo": {
     "elapsed": 62,
     "status": "ok",
     "timestamp": 1671109684649,
     "user": {
      "displayName": "Colab Rohith",
      "userId": "10732622787011341073"
     },
     "user_tz": -330
    },
    "id": "Q0Cf2KsCxh0d",
    "outputId": "5123b280-d980-4312-90ac-085f4afc6cc2"
   },
   "outputs": [
    {
     "name": "stderr",
     "output_type": "stream",
     "text": [
      "C:\\Users\\nanir\\AppData\\Local\\Temp\\ipykernel_5152\\3304662177.py:1: FutureWarning: Dropping of nuisance columns in DataFrame reductions (with 'numeric_only=None') is deprecated; in a future version this will raise TypeError.  Select only valid columns before calling the reduction.\n",
      "  var =  [df.var(numeric_only=None)[i] for i in range(3)]\n"
     ]
    },
    {
     "data": {
      "text/plain": [
       "[0.28588135080645166, 0.9573789677419356, 3.193166129032258]"
      ]
     },
     "execution_count": 11,
     "metadata": {},
     "output_type": "execute_result"
    }
   ],
   "source": [
    "var =  [df.var(numeric_only=None)[i] for i in range(3)]\n",
    "var"
   ]
  },
  {
   "cell_type": "code",
   "execution_count": 12,
   "id": "tsRxs0KTxrAA",
   "metadata": {
    "colab": {
     "base_uri": "https://localhost:8080/"
    },
    "executionInfo": {
     "elapsed": 59,
     "status": "ok",
     "timestamp": 1671109684651,
     "user": {
      "displayName": "Colab Rohith",
      "userId": "10732622787011341073"
     },
     "user_tz": -330
    },
    "id": "tsRxs0KTxrAA",
    "outputId": "264731c9-1154-4208-b5ea-6dcf9850a9ee"
   },
   "outputs": [
    {
     "data": {
      "text/plain": [
       "[2.17, 3.9110000000000005, 8.399999999999999]"
      ]
     },
     "execution_count": 12,
     "metadata": {},
     "output_type": "execute_result"
    }
   ],
   "source": [
    "Range = [df['Points'].max()-df['Points'].min() ,df['Score'].max()-df['Score'].min(), df['Weigh'].max()-df['Weigh'].min()]\n",
    "Range"
   ]
  },
  {
   "cell_type": "code",
   "execution_count": 13,
   "id": "1hjMxOo5zdem",
   "metadata": {
    "colab": {
     "base_uri": "https://localhost:8080/"
    },
    "executionInfo": {
     "elapsed": 52,
     "status": "ok",
     "timestamp": 1671109684653,
     "user": {
      "displayName": "Colab Rohith",
      "userId": "10732622787011341073"
     },
     "user_tz": -330
    },
    "id": "1hjMxOo5zdem",
    "outputId": "3f5ed60e-f0ea-4efc-be5d-a2ba55f92816"
   },
   "outputs": [
    {
     "data": {
      "text/plain": [
       "{'Mean': [3.5965625000000006, 3.2172499999999995, 17.848750000000003],\n",
       " 'Median': [3.6950000000000003, 3.325, 17.71],\n",
       " 'Mode': [[3.07, 3.92], 3.44, [17.02, 18.9]],\n",
       " 'Standard_Deviation': [0.5346787360709716,\n",
       "  0.9784574429896967,\n",
       "  1.7869432360968431],\n",
       " 'Variance': [0.28588135080645166, 0.9573789677419356, 3.193166129032258],\n",
       " 'Range': [2.17, 3.9110000000000005, 8.399999999999999]}"
      ]
     },
     "execution_count": 13,
     "metadata": {},
     "output_type": "execute_result"
    }
   ],
   "source": [
    "dic = {'Mean':Mean,'Median': Median, 'Mode':mode, 'Standard_Deviation':std, 'Variance':var,'Range':Range}\n",
    "dic"
   ]
  },
  {
   "cell_type": "code",
   "execution_count": 14,
   "id": "Yz7urHrefjfB",
   "metadata": {
    "colab": {
     "base_uri": "https://localhost:8080/",
     "height": 237
    },
    "executionInfo": {
     "elapsed": 51,
     "status": "ok",
     "timestamp": 1671109684656,
     "user": {
      "displayName": "Colab Rohith",
      "userId": "10732622787011341073"
     },
     "user_tz": -330
    },
    "id": "Yz7urHrefjfB",
    "outputId": "9714fbf5-6814-43eb-da06-f8edc9947b56"
   },
   "outputs": [
    {
     "data": {
      "text/html": [
       "<div>\n",
       "<style scoped>\n",
       "    .dataframe tbody tr th:only-of-type {\n",
       "        vertical-align: middle;\n",
       "    }\n",
       "\n",
       "    .dataframe tbody tr th {\n",
       "        vertical-align: top;\n",
       "    }\n",
       "\n",
       "    .dataframe thead th {\n",
       "        text-align: right;\n",
       "    }\n",
       "</style>\n",
       "<table border=\"1\" class=\"dataframe\">\n",
       "  <thead>\n",
       "    <tr style=\"text-align: right;\">\n",
       "      <th></th>\n",
       "      <th>Points</th>\n",
       "      <th>Score</th>\n",
       "      <th>Weigh</th>\n",
       "    </tr>\n",
       "  </thead>\n",
       "  <tbody>\n",
       "    <tr>\n",
       "      <th>Mean</th>\n",
       "      <td>3.596563</td>\n",
       "      <td>3.217250</td>\n",
       "      <td>17.84875</td>\n",
       "    </tr>\n",
       "    <tr>\n",
       "      <th>Median</th>\n",
       "      <td>3.695</td>\n",
       "      <td>3.325000</td>\n",
       "      <td>17.71</td>\n",
       "    </tr>\n",
       "    <tr>\n",
       "      <th>Mode</th>\n",
       "      <td>[3.07, 3.92]</td>\n",
       "      <td>3.440000</td>\n",
       "      <td>[17.02, 18.9]</td>\n",
       "    </tr>\n",
       "    <tr>\n",
       "      <th>Standard_Deviation</th>\n",
       "      <td>0.534679</td>\n",
       "      <td>0.978457</td>\n",
       "      <td>1.786943</td>\n",
       "    </tr>\n",
       "    <tr>\n",
       "      <th>Variance</th>\n",
       "      <td>0.285881</td>\n",
       "      <td>0.957379</td>\n",
       "      <td>3.193166</td>\n",
       "    </tr>\n",
       "    <tr>\n",
       "      <th>Range</th>\n",
       "      <td>2.17</td>\n",
       "      <td>3.911000</td>\n",
       "      <td>8.4</td>\n",
       "    </tr>\n",
       "  </tbody>\n",
       "</table>\n",
       "</div>"
      ],
      "text/plain": [
       "                          Points     Score          Weigh\n",
       "Mean                    3.596563  3.217250       17.84875\n",
       "Median                     3.695  3.325000          17.71\n",
       "Mode                [3.07, 3.92]  3.440000  [17.02, 18.9]\n",
       "Standard_Deviation      0.534679  0.978457       1.786943\n",
       "Variance                0.285881  0.957379       3.193166\n",
       "Range                       2.17  3.911000            8.4"
      ]
     },
     "execution_count": 14,
     "metadata": {},
     "output_type": "execute_result"
    }
   ],
   "source": [
    "index_labels=['Points',\"Score\",'Weighs']\n",
    "df1=pd.DataFrame.from_dict(dic,orient = 'index')\n",
    "df1.rename(columns={0:'Points',1:'Score',2:'Weigh'},inplace = True)\n",
    "df1"
   ]
  },
  {
   "cell_type": "code",
   "execution_count": 22,
   "id": "nBJ3BSzkrvKL",
   "metadata": {
    "colab": {
     "base_uri": "https://localhost:8080/",
     "height": 715
    },
    "executionInfo": {
     "elapsed": 2418,
     "status": "ok",
     "timestamp": 1671109748211,
     "user": {
      "displayName": "Colab Rohith",
      "userId": "10732622787011341073"
     },
     "user_tz": -330
    },
    "id": "nBJ3BSzkrvKL",
    "outputId": "16daf729-60bb-45c0-ed0d-a4d2f923deed"
   },
   "outputs": [
    {
     "data": {
      "text/plain": [
       "array([[<AxesSubplot:title={'center':'Points'}>,\n",
       "        <AxesSubplot:title={'center':'Score'}>],\n",
       "       [<AxesSubplot:title={'center':'Weigh'}>, <AxesSubplot:>]],\n",
       "      dtype=object)"
      ]
     },
     "execution_count": 22,
     "metadata": {},
     "output_type": "execute_result"
    },
    {
     "data": {
      "image/png": "[encoded data removed]",
      "text/plain": [
       "<Figure size 2000x1000 with 4 Axes>"
      ]
     },
     "metadata": {},
     "output_type": "display_data"
    }
   ],
   "source": [
    "#df1.to_csv('File location')\n",
    "df.hist(figsize = (20,10),bins = 50 )\n"
   ]
  },
  {
   "cell_type": "code",
   "execution_count": null,
   "id": "4888dc60",
   "metadata": {},
   "outputs": [],
   "source": []
  }
 ],
 "metadata": {
  "colab": {
   "provenance": [],
   "toc_visible": true
  },
  "kernelspec": {
   "display_name": "Python 3 (ipykernel)",
   "language": "python",
   "name": "python3"
  },
  "language_info": {
   "codemirror_mode": {
    "name": "ipython",
    "version": 3
   },
   "file_extension": ".py",
   "mimetype": "text/x-python",
   "name": "python",
   "nbconvert_exporter": "python",
   "pygments_lexer": "ipython3",
   "version": "3.9.13"
  }
 },
 "nbformat": 4,
 "nbformat_minor": 5
}
