{
 "cells": [
  {
   "cell_type": "markdown",
   "id": "682ca43d",
   "metadata": {},
   "source": [
    " Importing modules"
   ]
  },
  {
   "cell_type": "code",
   "execution_count": 1,
   "id": "b098a478",
   "metadata": {},
   "outputs": [],
   "source": [
    "import pandas as pd\n",
    "import numpy as np\n",
    "from scipy.stats import norm"
   ]
  },
  {
   "cell_type": "code",
   "execution_count": 2,
   "id": "f788528d",
   "metadata": {
    "scrolled": true
   },
   "outputs": [
    {
     "data": {
      "text/html": [
       "<div>\n",
       "<style scoped>\n",
       "    .dataframe tbody tr th:only-of-type {\n",
       "        vertical-align: middle;\n",
       "    }\n",
       "\n",
       "    .dataframe tbody tr th {\n",
       "        vertical-align: top;\n",
       "    }\n",
       "\n",
       "    .dataframe thead th {\n",
       "        text-align: right;\n",
       "    }\n",
       "</style>\n",
       "<table border=\"1\" class=\"dataframe\">\n",
       "  <thead>\n",
       "    <tr style=\"text-align: right;\">\n",
       "      <th></th>\n",
       "      <th>HP</th>\n",
       "      <th>MPG</th>\n",
       "      <th>VOL</th>\n",
       "      <th>SP</th>\n",
       "      <th>WT</th>\n",
       "    </tr>\n",
       "  </thead>\n",
       "  <tbody>\n",
       "    <tr>\n",
       "      <th>0</th>\n",
       "      <td>49</td>\n",
       "      <td>53.700681</td>\n",
       "      <td>89</td>\n",
       "      <td>104.185353</td>\n",
       "      <td>28.762059</td>\n",
       "    </tr>\n",
       "    <tr>\n",
       "      <th>1</th>\n",
       "      <td>55</td>\n",
       "      <td>50.013401</td>\n",
       "      <td>92</td>\n",
       "      <td>105.461264</td>\n",
       "      <td>30.466833</td>\n",
       "    </tr>\n",
       "    <tr>\n",
       "      <th>2</th>\n",
       "      <td>55</td>\n",
       "      <td>50.013401</td>\n",
       "      <td>92</td>\n",
       "      <td>105.461264</td>\n",
       "      <td>30.193597</td>\n",
       "    </tr>\n",
       "    <tr>\n",
       "      <th>3</th>\n",
       "      <td>70</td>\n",
       "      <td>45.696322</td>\n",
       "      <td>92</td>\n",
       "      <td>113.461264</td>\n",
       "      <td>30.632114</td>\n",
       "    </tr>\n",
       "    <tr>\n",
       "      <th>4</th>\n",
       "      <td>53</td>\n",
       "      <td>50.504232</td>\n",
       "      <td>92</td>\n",
       "      <td>104.461264</td>\n",
       "      <td>29.889149</td>\n",
       "    </tr>\n",
       "  </tbody>\n",
       "</table>\n",
       "</div>"
      ],
      "text/plain": [
       "   HP        MPG  VOL          SP         WT\n",
       "0  49  53.700681   89  104.185353  28.762059\n",
       "1  55  50.013401   92  105.461264  30.466833\n",
       "2  55  50.013401   92  105.461264  30.193597\n",
       "3  70  45.696322   92  113.461264  30.632114\n",
       "4  53  50.504232   92  104.461264  29.889149"
      ]
     },
     "execution_count": 2,
     "metadata": {},
     "output_type": "execute_result"
    }
   ],
   "source": [
    "df = pd.read_csv('C:\\\\Users\\\\nanir\\\\OneDrive\\\\excelR\\\\Assignments\\\\Assig-1\\\\Cars.csv')\n",
    "df.head()"
   ]
  },
  {
   "cell_type": "code",
   "execution_count": 3,
   "id": "d9cb09ad",
   "metadata": {},
   "outputs": [
    {
     "name": "stdout",
     "output_type": "stream",
     "text": [
      "34.422075728024666 \n",
      " 9.131444731795982\n"
     ]
    }
   ],
   "source": [
    "m=df['MPG'].mean();s=df['MPG'].std();\n",
    "print(m,'\\n' ,s)"
   ]
  },
  {
   "cell_type": "code",
   "execution_count": 4,
   "id": "c5f711cd",
   "metadata": {},
   "outputs": [
    {
     "name": "stdout",
     "output_type": "stream",
     "text": [
      "P[MPG>38]: 0.3475939251582705\n",
      "P[MPG>38]: 0.6524060748417295\n",
      "P[20>MPG>50]: 0.013116469610523339\n"
     ]
    }
   ],
   "source": [
    "# P(MPG>38)\n",
    "print('P[MPG>38]:',1-norm.cdf(38,m,s))\n",
    "# P(MPG<40)\n",
    "print('P[MPG>38]:',norm.cdf(38,m,s))\n",
    "# P(20>MPG>50)\n",
    "print('P[20>MPG>50]:',norm.cdf(20,m,s)-(1-norm.cdf(50,m,s)))"
   ]
  },
  {
   "cell_type": "code",
   "execution_count": 5,
   "id": "e680780f",
   "metadata": {},
   "outputs": [
    {
     "name": "stdout",
     "output_type": "stream",
     "text": [
      "0.17639249563217163\n",
      "H1 is rejected and Ho is accepted\n"
     ]
    }
   ],
   "source": [
    "from scipy.stats import shapiro\n",
    "\n",
    "# conduct the  Shapiro-Wilk Test\n",
    "statistic,pvalue =shapiro(df['MPG'])\n",
    "#Null Hypothesis\n",
    "print(pvalue)\n",
    "alpha= 0.05\n",
    "#H0 Data is normal distribution\n",
    "#H1 Data is not normal distribution\n",
    "if pvalue < alpha:\n",
    "    print(\"Ho is rejected and H1 is accepted\")\n",
    "else:\n",
    "    print(\"H1 is rejected and Ho is accepted\")\n"
   ]
  },
  {
   "cell_type": "code",
   "execution_count": 12,
   "id": "e2e5b9d6",
   "metadata": {},
   "outputs": [
    {
     "name": "stdout",
     "output_type": "stream",
     "text": [
      "0.0011704873759299517\n",
      "Ho is rejected and H1 is accepted\n",
      "Data is not normal distribution\n"
     ]
    },
    {
     "data": {
      "text/plain": [
       "Text(0.5, 1.0, 'Histogram of Waist')"
      ]
     },
     "execution_count": 12,
     "metadata": {},
     "output_type": "execute_result"
    },
    {
     "data": {
      "text/plain": [
       "<Figure size 1600x900 with 0 Axes>"
      ]
     },
     "metadata": {},
     "output_type": "display_data"
    },
    {
     "data": {
      "image/png": "[encoded data removed]",
      "text/plain": [
       "<Figure size 500x500 with 1 Axes>"
      ]
     },
     "metadata": {},
     "output_type": "display_data"
    }
   ],
   "source": [
    "import matplotlib.pyplot as plt\n",
    "import seaborn as sns\n",
    "from scipy.stats import shapiro\n",
    "\n",
    "df1 = pd.read_csv('C:\\\\Users\\\\nanir\\\\OneDrive\\\\excelR\\\\Assignments\\\\Assig-1\\\\wc-at.csv')\n",
    "df1.head()\n",
    "\n",
    "# conduct the  Shapiro-Wilk Test\n",
    "statistic,pvalue =shapiro(df1['Waist'])\n",
    "\n",
    "#Null Hypothesis\n",
    "print(pvalue)\n",
    "alpha= 0.05\n",
    "\n",
    "#H0 Data is normal distribution\n",
    "#H1 Data is not normal distribution\n",
    "\n",
    "if pvalue < alpha:\n",
    "    print(\"Ho is rejected and H1 is accepted\")\n",
    "    print('Data is not normal distribution')\n",
    "else:\n",
    "    print(\"H1 is rejected and Ho is accepted\")\n",
    "    print('Data is normal distribution')\n",
    "plt.figure(figsize=(16,9))\n",
    "sns.set()\n",
    "sns.displot(df1['Waist'], kde=True,bins = 30)\n",
    "plt.title(\"Histogram of Waist\") # for histogram title"
   ]
  },
  {
   "cell_type": "code",
   "execution_count": 11,
   "id": "b68e8ee2",
   "metadata": {},
   "outputs": [
    {
     "name": "stdout",
     "output_type": "stream",
     "text": [
      "0.0006539996829815209\n",
      "Ho is rejected and H1 is accepted\n",
      "Data is not normal distribution\n"
     ]
    },
    {
     "data": {
      "text/plain": [
       "Text(0.5, 1.0, 'Histogram of AT')"
      ]
     },
     "execution_count": 11,
     "metadata": {},
     "output_type": "execute_result"
    },
    {
     "data": {
      "image/png": "[encoded data removed]",
      "text/plain": [
       "<Figure size 500x500 with 1 Axes>"
      ]
     },
     "metadata": {},
     "output_type": "display_data"
    }
   ],
   "source": [
    "statistic,pvalue =shapiro(df1['AT'])\n",
    "#Null Hypothesis\n",
    "print(pvalue)\n",
    "alpha= 0.05\n",
    "#H0 Data is normal distribution\n",
    "#H1 Data is not normal distribution\n",
    "if pvalue < alpha:\n",
    "    print(\"Ho is rejected and H1 is accepted\")\n",
    "    print('Data is not normal distribution')\n",
    "else:\n",
    "    print(\"H1 is rejected and Ho is accepted\")\n",
    "    print('Data is normal distribution')\n",
    "    \n",
    "sns.displot(df1['AT'], kde = True,bins = 30)\n",
    "plt.title(\"Histogram of AT\") # for histogram title"
   ]
  },
  {
   "cell_type": "code",
   "execution_count": 18,
   "id": "cf6f87b9",
   "metadata": {},
   "outputs": [
    {
     "data": {
      "text/plain": [
       "[1.2815515655446004, 1.5547735945968535, 0.2533471031357997]"
      ]
     },
     "execution_count": 18,
     "metadata": {},
     "output_type": "execute_result"
    }
   ],
   "source": [
    "from scipy import stats\n",
    "ls=[0.90,0.94,0.60]\n",
    "Z_scores=[stats.norm.ppf(ls[i]) for i in range(len(ls))]\n",
    "Z_scores"
   ]
  },
  {
   "cell_type": "code",
   "execution_count": 21,
   "id": "e1c6a897",
   "metadata": {},
   "outputs": [
    {
     "data": {
      "text/plain": [
       "[1.7108820799094275, 1.8280511719596342, 2.4921594731575762]"
      ]
     },
     "execution_count": 21,
     "metadata": {},
     "output_type": "execute_result"
    }
   ],
   "source": [
    "ls1=[0.95,0.96,0.99]\n",
    "df = 24\n",
    "t_distribution = [stats.t.ppf(ls1[i],df) for i in range(len(ls1))]\n",
    "t_distribution"
   ]
  },
  {
   "cell_type": "code",
   "execution_count": null,
   "id": "3f1275dd",
   "metadata": {},
   "outputs": [],
   "source": []
  }
 ],
 "metadata": {
  "kernelspec": {
   "display_name": "Python 3 (ipykernel)",
   "language": "python",
   "name": "python3"
  },
  "language_info": {
   "codemirror_mode": {
    "name": "ipython",
    "version": 3
   },
   "file_extension": ".py",
   "mimetype": "text/x-python",
   "name": "python",
   "nbconvert_exporter": "python",
   "pygments_lexer": "ipython3",
   "version": "3.9.13"
  }
 },
 "nbformat": 4,
 "nbformat_minor": 5
}
