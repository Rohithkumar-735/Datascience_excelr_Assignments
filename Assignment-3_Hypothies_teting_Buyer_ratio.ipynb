{
 "cells": [
  {
   "cell_type": "markdown",
   "id": "98102d24",
   "metadata": {},
   "source": [
    "##### Problem Statment\n",
    "Sales of products in four different regions is tabulated for males and females. Find if male-female buyer rations are similar across regions."
   ]
  },
  {
   "cell_type": "markdown",
   "id": "2515dc13",
   "metadata": {},
   "source": [
    "##### Business Problem\n",
    "Is the male-female buyer rations are similar across regions ?\n",
    " \n",
    "Significance level (alpha) = 0.05"
   ]
  },
  {
   "cell_type": "code",
   "execution_count": 1,
   "id": "dd344ae6",
   "metadata": {},
   "outputs": [],
   "source": [
    "#Modules\n",
    "import pandas as pd\n",
    "import numpy as np\n",
    "from scipy import stats"
   ]
  },
  {
   "cell_type": "markdown",
   "id": "90c8cb4c",
   "metadata": {},
   "source": [
    "##### Data Acquisition"
   ]
  },
  {
   "cell_type": "code",
   "execution_count": 2,
   "id": "ba130b73",
   "metadata": {},
   "outputs": [
    {
     "name": "stdout",
     "output_type": "stream",
     "text": [
      "  Observed Values  East  West  North  South\n",
      "0           Males    50   142    131     70\n",
      "1         Females   435  1523   1356    750\n"
     ]
    },
    {
     "data": {
      "text/plain": [
       "(2, 5)"
      ]
     },
     "execution_count": 2,
     "metadata": {},
     "output_type": "execute_result"
    }
   ],
   "source": [
    "#Data Import\n",
    "df = pd.read_csv('BuyerRatio.csv')\n",
    "print(df.head())\n",
    "df.shape"
   ]
  },
  {
   "cell_type": "markdown",
   "id": "3a3bf47b",
   "metadata": {},
   "source": [
    "##### Exploratory Data Analysis\n",
    "\n",
    "Check the Null values and Data type"
   ]
  },
  {
   "cell_type": "code",
   "execution_count": 3,
   "id": "46928caa",
   "metadata": {},
   "outputs": [
    {
     "name": "stdout",
     "output_type": "stream",
     "text": [
      "<class 'pandas.core.frame.DataFrame'>\n",
      "RangeIndex: 2 entries, 0 to 1\n",
      "Data columns (total 5 columns):\n",
      " #   Column           Non-Null Count  Dtype \n",
      "---  ------           --------------  ----- \n",
      " 0   Observed Values  2 non-null      object\n",
      " 1   East             2 non-null      int64 \n",
      " 2   West             2 non-null      int64 \n",
      " 3   North            2 non-null      int64 \n",
      " 4   South            2 non-null      int64 \n",
      "dtypes: int64(4), object(1)\n",
      "memory usage: 208.0+ bytes\n",
      "None\n"
     ]
    }
   ],
   "source": [
    "print(df.info())"
   ]
  },
  {
   "cell_type": "markdown",
   "id": "10d106a0",
   "metadata": {},
   "source": [
    "No null-values in data and \n",
    "Data type is int64"
   ]
  },
  {
   "cell_type": "code",
   "execution_count": 4,
   "id": "58cbeb19",
   "metadata": {},
   "outputs": [],
   "source": [
    "table = [[50,142,131,70],[435,1523,1356,750]]"
   ]
  },
  {
   "cell_type": "markdown",
   "id": "0e007194",
   "metadata": {},
   "source": [
    "##### Selection of Method\n",
    "\n",
    "\n",
    "#### Chi- Square assumptions\n",
    "1. We can see that the two variables in the contingency table are both categorical. i.e., Gender, Regions\n",
    "2. All observations are independent.\n",
    "3. Cells in the contingency table are mutually exclusive. We can verify that this assumption is met by checking that no individual has been counted in more than one cell.Assuming each individual in the dataset was only surveyed once.\n",
    "4. Expected value of cells should be 5 or greater in at least 80% of cells.\n",
    "\n",
    "\n",
    "\n",
    "Applying Chi-Square  contingency table to convert observed value into expected value"
   ]
  },
  {
   "cell_type": "code",
   "execution_count": 5,
   "id": "b8b49dca",
   "metadata": {},
   "outputs": [
    {
     "name": "stdout",
     "output_type": "stream",
     "text": [
      "stat =1.595945538661058\n",
      "p-value=0.6603094907091882\n",
      "DOF =3\n",
      "expected value\n",
      "[[  42.76531299  146.81287862  131.11756787   72.30424052]\n",
      " [ 442.23468701 1518.18712138 1355.88243213  747.69575948]]\n"
     ]
    }
   ],
   "source": [
    "stat, p, dof, exp = stats.chi2_contingency(table) \n",
    "print('stat =',stat,\"\\n\",'p-value=', p,\"\\n\", 'DOF =',dof,\"\\n\",'expected value','\\n', exp,sep ='')"
   ]
  },
  {
   "cell_type": "markdown",
   "id": "f6a7bcd0",
   "metadata": {},
   "source": [
    "Every value in Expected value of cells are greater than 5.\n",
    "So, we can use a Chi-Square test of independence."
   ]
  },
  {
   "cell_type": "markdown",
   "id": "5a72d1cd",
   "metadata": {},
   "source": [
    "##### Model deployment :\n",
    "Chi-Square test of independence"
   ]
  },
  {
   "cell_type": "code",
   "execution_count": 6,
   "id": "2a3cad48",
   "metadata": {},
   "outputs": [],
   "source": [
    "observed = np.array([50, 142, 131, 70, 435, 1523, 1356, 750])\n",
    "expected = np.array([42.76531299,  146.81287862,  131.11756787, 72.30424052, 442.23468701, 1518.18712138, 1355.88243213, 747.69575948])"
   ]
  },
  {
   "cell_type": "code",
   "execution_count": 7,
   "id": "f4c77ab4",
   "metadata": {
    "scrolled": true
   },
   "outputs": [
    {
     "name": "stdout",
     "output_type": "stream",
     "text": [
      "Statistics = 1.5959455390914483\n",
      "P_Value = 0.8095206646905712\n"
     ]
    }
   ],
   "source": [
    "statistics, pvalue = stats.chisquare(observed, expected, ddof = 3)\n",
    "print(\"Statistics = \",statistics,\"\\n\",'P_Value = ', pvalue,sep='')"
   ]
  },
  {
   "cell_type": "code",
   "execution_count": 8,
   "id": "0bfb38cd",
   "metadata": {},
   "outputs": [
    {
     "name": "stdout",
     "output_type": "stream",
     "text": [
      "0.8095206646905712\n",
      "H1 is rejected and Ho is accepted\n",
      "The gender-based purchase ratios are independent of one another across regions.\n"
     ]
    }
   ],
   "source": [
    "#Null Hypothesis for Chi-Square test of Independance\n",
    "print(pvalue)\n",
    "alpha= 0.05\n",
    " \n",
    "#H0 The gender-based buyer ratios are independent of one another across regions.\n",
    "#H1 The gender-based buyer ratios across regions exhibit a correlation or reliance.\n",
    " \n",
    "if pvalue < alpha:\n",
    "    print (\"Due to evidence, Ho is rejected and H1 is accepted.\")\n",
    "    print ('The gender-based buyer ratios across regions exhibit a correlation or reliance.')\n",
    "else:\n",
    "    print (\"H1 is rejected and Ho is accepted\")\n",
    "    print ('The gender-based purchase ratios are independent of one another across regions.')"
   ]
  },
  {
   "cell_type": "markdown",
   "id": "a47f084d",
   "metadata": {},
   "source": [
    "###### Conclusion\n",
    "We are unable to rule out the null hypothesis due to a lack of data. Male-to-female buyer ratios are consistent across locales and do not depend on or correlate with one another.\n",
    "Samples are therefore independent."
   ]
  }
 ],
 "metadata": {
  "kernelspec": {
   "display_name": "Python 3 (ipykernel)",
   "language": "python",
   "name": "python3"
  },
  "language_info": {
   "codemirror_mode": {
    "name": "ipython",
    "version": 3
   },
   "file_extension": ".py",
   "mimetype": "text/x-python",
   "name": "python",
   "nbconvert_exporter": "python",
   "pygments_lexer": "ipython3",
   "version": "3.9.13"
  }
 },
 "nbformat": 4,
 "nbformat_minor": 5
}
