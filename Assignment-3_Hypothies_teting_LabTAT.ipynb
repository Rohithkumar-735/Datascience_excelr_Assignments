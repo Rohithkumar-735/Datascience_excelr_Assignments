{
 "cells": [
  {
   "attachments": {},
   "cell_type": "markdown",
   "id": "98102d24",
   "metadata": {},
   "source": [
    "##### Problem Statment\n",
    " A hospital wants to determine whether there is any difference in the average Turn Around Time (TAT) of reports of the laboratories on their preferred list. They collected a random sample and recorded TAT for reports of 4 laboratories. TAT is defined as sample collected to report dispatch.\n",
    "   \n",
    "  Analyze the data and determine whether there is any difference in average TAT among the different laboratories at 5% significance level."
   ]
  },
  {
   "cell_type": "markdown",
   "id": "2515dc13",
   "metadata": {},
   "source": [
    "##### Business Problem\n",
    " Is there any difference in average TAT among the different laboratories ?\n",
    " \n",
    " Significance level (alpha) = 0.05"
   ]
  },
  {
   "cell_type": "code",
   "execution_count": 9,
   "id": "dd344ae6",
   "metadata": {},
   "outputs": [],
   "source": [
    "#Modules\n",
    "import pandas as pd\n",
    "from scipy.stats import levene, shapiro, f_oneway"
   ]
  },
  {
   "cell_type": "markdown",
   "id": "90c8cb4c",
   "metadata": {},
   "source": [
    "##### Data Exploration"
   ]
  },
  {
   "cell_type": "code",
   "execution_count": 3,
   "id": "ba130b73",
   "metadata": {},
   "outputs": [
    {
     "name": "stdout",
     "output_type": "stream",
     "text": [
      "No of samples : 120 \n",
      "\n",
      "   Laboratory 1  Laboratory 2  Laboratory 3  Laboratory 4\n",
      "0        185.35        165.53        176.70        166.13\n",
      "1        170.49        185.91        198.45        160.79\n",
      "2        192.77        194.92        201.23        185.18\n",
      "3        177.33        183.00        199.61        176.42\n",
      "4        193.41        169.57        204.63        152.60\n"
     ]
    }
   ],
   "source": [
    "#Data Import\n",
    "df = pd.read_csv('LabTAT.csv')\n",
    "print('No of samples :',len(df['Laboratory 1']),'\\n')\n",
    "print(df.head())"
   ]
  },
  {
   "cell_type": "markdown",
   "id": "0e007194",
   "metadata": {},
   "source": [
    "##### Selection of Method\n",
    "Normality of Data: By using Shapiro-wilk Test and Null hypothesis."
   ]
  },
  {
   "cell_type": "code",
   "execution_count": 4,
   "id": "c03fcc9d",
   "metadata": {},
   "outputs": [
    {
     "name": "stdout",
     "output_type": "stream",
     "text": [
      "0.5507769584655762\n",
      "H1 is rejected and Ho is accepted\n",
      "Data of Laboratory 1 is normal distribution\n",
      "0.8637352585792542\n",
      "H1 is rejected and Ho is accepted\n",
      "Data of Laboratory 2 is normal distribution\n",
      "0.42045730352401733\n",
      "H1 is rejected and Ho is accepted\n",
      "Data of Laboratory 3 is normal distribution\n",
      "0.6619619131088257\n",
      "H1 is rejected and Ho is accepted\n",
      "Data of Laboratory 4 is normal distribution\n"
     ]
    }
   ],
   "source": [
    "# Conduct the Shapiro-Wilk Test\n",
    "statistic,pvalue =shapiro(df['Laboratory 1'])\n",
    " \n",
    "#Null Hypothesis\n",
    "print(pvalue)\n",
    "alpha= 0.05\n",
    " \n",
    "#H0 Data is normal distribution\n",
    "#H1 Data is not normal distribution\n",
    " \n",
    "if pvalue < alpha:\n",
    "    print (\"Ho is rejected and H1 is accepted\")\n",
    "    print ('Data of Laboratory 1 is not normal distribution')\n",
    "else:\n",
    "    print (\"H1 is rejected and Ho is accepted\")\n",
    "    print ('Data of Laboratory 1 is normal distribution')\n",
    " \n",
    "statistic, pvalue =shapiro(df['Laboratory 2'])\n",
    "print(pvalue)\n",
    "if pvalue < alpha:\n",
    "    print (\"Ho is rejected and H1 is accepted\")\n",
    "    print ('Data of Laboratory 2 is not normal distribution')\n",
    "else:\n",
    "    print (\"H1 is rejected and Ho is accepted\")\n",
    "    print ('Data of Laboratory 2 is normal distribution')\n",
    "    \n",
    "statistic, pvalue =shapiro(df['Laboratory 3'])\n",
    "print(pvalue)\n",
    "if pvalue < alpha:\n",
    "    print (\"Ho is rejected and H1 is accepted\")\n",
    "    print ('Data of Laboratory 3 is not normal distribution')\n",
    "else:\n",
    "    print (\"H1 is rejected and Ho is accepted\")\n",
    "    print ('Data of Laboratory 3 is normal distribution')\n",
    "\n",
    "statistic, pvalue =shapiro(df['Laboratory 4'])\n",
    "print(pvalue)\n",
    "if pvalue < alpha:\n",
    "    print (\"Ho is rejected and H1 is accepted\")\n",
    "    print ('Data of Laboratory 4 is not normal distribution')\n",
    "else:\n",
    "    print (\"H1 is rejected and Ho is accepted\")\n",
    "    print ('Data of Laboratory 4 is normal distribution')"
   ]
  },
  {
   "cell_type": "markdown",
   "id": "26b40341",
   "metadata": {},
   "source": [
    "Data is following normal distribution."
   ]
  },
  {
   "cell_type": "markdown",
   "id": "31c2b385",
   "metadata": {},
   "source": [
    "Homogeneity of variance: The variation within each group being compared is similar for every group. If the variances are different among the groups, then ANOVA probably isn’t the right fit for the data."
   ]
  },
  {
   "cell_type": "code",
   "execution_count": 7,
   "id": "85b445cf",
   "metadata": {},
   "outputs": [
    {
     "name": "stdout",
     "output_type": "stream",
     "text": [
      "0.05161343808309816\n",
      "H1 is rejected and Ho is accepted\n",
      "No significant variance among laboratories and proceed for one way ANOVA test\n"
     ]
    }
   ],
   "source": [
    " statistic,pvalue =levene(df[\"Laboratory 1\"], df[\"Laboratory 2\"], df[\"Laboratory 3\"], df[\"Laboratory 4\"])\n",
    " \n",
    "#Null Hypothesis for Homogenetiy of variance\n",
    "print(pvalue)\n",
    "alpha= 0.05\n",
    " \n",
    "#H0 No significant variance among laboratories\n",
    "#H1 Significant variance among laboratories\n",
    " \n",
    "if pvalue < alpha:\n",
    "    print (\"Ho is rejected and H1 is accepted\")\n",
    "    print ('Significant variance among laboratories and try different method other than ANOVA Test')\n",
    "else:\n",
    "    print (\"H1 is rejected and Ho is accepted\")\n",
    "    print ('No significant variance among laboratories and proceed for one way ANOVA test')"
   ]
  },
  {
   "cell_type": "markdown",
   "id": "5e58ca45",
   "metadata": {},
   "source": [
    "##### Deployment of ANOVA Test Method"
   ]
  },
  {
   "cell_type": "code",
   "execution_count": 11,
   "id": "03574c48",
   "metadata": {},
   "outputs": [
    {
     "name": "stdout",
     "output_type": "stream",
     "text": [
      "2.1156708949992414e-57\n",
      "Ho is rejected and H1 is accepted\n",
      "Significance difference between TAT of the laboratories\n"
     ]
    }
   ],
   "source": [
    "statistic,pvalue=f_oneway(df[\"Laboratory 1\"], df[\"Laboratory 2\"], df[\"Laboratory 3\"], df[\"Laboratory 4\"])\n",
    "\n",
    "#Null Hypothesis for ANOVA\n",
    "print(pvalue)\n",
    "alpha= 0.05\n",
    " \n",
    "#H0 No significance difference between TAT of the laboratories\n",
    "#H1 Significance difference between TAT of the laboratories\n",
    " \n",
    "if pvalue < alpha:\n",
    "    print (\"Ho is rejected and H1 is accepted\")\n",
    "    print ('Significance difference between TAT of the laboratories')\n",
    "else:\n",
    "    print (\"H1 is rejected and Ho is accepted\")\n",
    "    print ('No significance difference between TAT of the laboratories')"
   ]
  },
  {
   "cell_type": "markdown",
   "id": "f6a7bcd0",
   "metadata": {},
   "source": [
    "##### Conclusion:\n",
    "From one way ANOVA test we conclude that there is difference in average TAT among the different laboratories at 5% significance level."
   ]
  }
 ],
 "metadata": {
  "kernelspec": {
   "display_name": "Python 3 (ipykernel)",
   "language": "python",
   "name": "python3"
  },
  "language_info": {
   "codemirror_mode": {
    "name": "ipython",
    "version": 3
   },
   "file_extension": ".py",
   "mimetype": "text/x-python",
   "name": "python",
   "nbconvert_exporter": "python",
   "pygments_lexer": "ipython3",
   "version": "3.9.13"
  }
 },
 "nbformat": 4,
 "nbformat_minor": 5
}
