{
 "cells": [
  {
   "cell_type": "markdown",
   "id": "98102d24",
   "metadata": {},
   "source": [
    "##### Problem Statment\n",
    "Telecall uses 4 centers around the globe to process customer order forms. They audit a certain %  of the customer order forms. Any error in order form renders it defective and has to be reworked before processing.  The manager wants to check whether the defective %  varies by centre. \n",
    "Please analyze the data at 5% significance level and help the manager draw appropriate inferences"
   ]
  },
  {
   "cell_type": "markdown",
   "id": "2515dc13",
   "metadata": {},
   "source": [
    "##### Business Problem\n",
    " Is defective order-form percentage varies by centre ?\n",
    " \n",
    " Significance level (alpha) = 0.05"
   ]
  },
  {
   "cell_type": "code",
   "execution_count": 3,
   "id": "dd344ae6",
   "metadata": {},
   "outputs": [],
   "source": [
    "#Modules\n",
    "import pandas as pd\n",
    "import numpy as np\n",
    "from scipy import stats"
   ]
  },
  {
   "cell_type": "markdown",
   "id": "90c8cb4c",
   "metadata": {},
   "source": [
    "##### Data Acquisition"
   ]
  },
  {
   "cell_type": "code",
   "execution_count": 24,
   "id": "ba130b73",
   "metadata": {},
   "outputs": [
    {
     "name": "stdout",
     "output_type": "stream",
     "text": [
      "(300, 4)\n",
      "  Phillippines   Indonesia       Malta       India\n",
      "0   Error Free  Error Free   Defective  Error Free\n",
      "1   Error Free  Error Free  Error Free   Defective\n",
      "2   Error Free   Defective   Defective  Error Free\n",
      "3   Error Free  Error Free  Error Free  Error Free\n",
      "4   Error Free  Error Free   Defective  Error Free\n"
     ]
    }
   ],
   "source": [
    "#Data Import\n",
    "df = pd.read_csv('Costomer+OrderForm.csv')\n",
    "print(df.shape)\n",
    "print(df.head())"
   ]
  },
  {
   "cell_type": "markdown",
   "id": "0e007194",
   "metadata": {},
   "source": [
    "##### Exploratory Data Analysis\n",
    "\n",
    "Check the Null values and Data type"
   ]
  },
  {
   "cell_type": "code",
   "execution_count": 25,
   "id": "1644e078",
   "metadata": {
    "scrolled": false
   },
   "outputs": [
    {
     "name": "stdout",
     "output_type": "stream",
     "text": [
      "<class 'pandas.core.frame.DataFrame'>\n",
      "RangeIndex: 300 entries, 0 to 299\n",
      "Data columns (total 4 columns):\n",
      " #   Column        Non-Null Count  Dtype \n",
      "---  ------        --------------  ----- \n",
      " 0   Phillippines  300 non-null    object\n",
      " 1   Indonesia     300 non-null    object\n",
      " 2   Malta         300 non-null    object\n",
      " 3   India         300 non-null    object\n",
      "dtypes: object(4)\n",
      "memory usage: 9.5+ KB\n",
      "None\n"
     ]
    }
   ],
   "source": [
    "print(df.info())"
   ]
  },
  {
   "cell_type": "markdown",
   "id": "c40aed55",
   "metadata": {},
   "source": [
    "No null-values in data and \n",
    "Data type is object"
   ]
  },
  {
   "cell_type": "markdown",
   "id": "67158477",
   "metadata": {},
   "source": [
    "Value counts in data "
   ]
  },
  {
   "cell_type": "code",
   "execution_count": 26,
   "id": "153f1bbf",
   "metadata": {},
   "outputs": [
    {
     "name": "stdout",
     "output_type": "stream",
     "text": [
      "Error Free    271\n",
      "Defective      29\n",
      "Name: Phillippines, dtype: int64\n",
      "Error Free    267\n",
      "Defective      33\n",
      "Name: Indonesia, dtype: int64\n",
      "Error Free    269\n",
      "Defective      31\n",
      "Name: Malta, dtype: int64\n",
      "Error Free    280\n",
      "Defective      20\n",
      "Name: India, dtype: int64\n"
     ]
    }
   ],
   "source": [
    "print(df['Phillippines'].value_counts(),df['Indonesia'].value_counts(),\n",
    "      df['Malta'].value_counts(),df['India'].value_counts(),sep = '\\n')"
   ]
  },
  {
   "cell_type": "markdown",
   "id": "20191fa5",
   "metadata": {},
   "source": [
    "Contingency table"
   ]
  },
  {
   "cell_type": "code",
   "execution_count": 33,
   "id": "ec8fd9ff",
   "metadata": {},
   "outputs": [],
   "source": [
    "table = [[271,267,269,280],[29,33,31,20]]"
   ]
  },
  {
   "cell_type": "markdown",
   "id": "59b8c0a0",
   "metadata": {},
   "source": [
    "##### Selection of Model\n",
    "\n",
    "\n",
    "#### Chi- Square assumptions\n",
    "1. We can see that the two variables in the contingency table are both categorical. i.e., Gender, Regions\n",
    "2. All observations are independent.\n",
    "3. Cells in the contingency table are mutually exclusive. We can verify that this assumption is met by checking that no individual has been counted in more than one cell.Assuming each individual in the dataset was only surveyed once.\n",
    "4. Expected value of cells should be 5 or greater in at least 80% of cells.\n",
    "\n",
    "\n",
    "\n",
    "Applying Chi-Square  contingency table to convert observed value into expected value"
   ]
  },
  {
   "cell_type": "code",
   "execution_count": 35,
   "id": "85b445cf",
   "metadata": {},
   "outputs": [
    {
     "name": "stdout",
     "output_type": "stream",
     "text": [
      "stat =3.858960685820355\n",
      "p-value=0.2771020991233135\n",
      "DOF =3\n",
      "expected value :[[271.75 271.75 271.75 271.75]\n",
      " [ 28.25  28.25  28.25  28.25]]\n"
     ]
    }
   ],
   "source": [
    "stat, p, dof, exp = stats.chi2_contingency(table) \n",
    "print('stat =',stat,\"\\n\",'p-value=', p,\"\\n\", 'DOF =',dof,\"\\n\",'expected value :', exp,sep ='')"
   ]
  },
  {
   "cell_type": "markdown",
   "id": "770f46a7",
   "metadata": {},
   "source": [
    "Every value in Expected value of cells are greater than 5.\n",
    "So, we can use a Chi-Square test of independence.\n"
   ]
  },
  {
   "cell_type": "markdown",
   "id": "5e58ca45",
   "metadata": {},
   "source": [
    "##### Model deployment :\n",
    "Chi-Square test of independence"
   ]
  },
  {
   "cell_type": "code",
   "execution_count": 29,
   "id": "edfd215f",
   "metadata": {},
   "outputs": [],
   "source": [
    "observed = np.array([271,267,269,280,29,33,31,20])\n",
    "expected = np.array([271.75,271.75,271.75,271.75,28.25,28.25,28.25,28.25])"
   ]
  },
  {
   "cell_type": "code",
   "execution_count": 30,
   "id": "d699eef0",
   "metadata": {},
   "outputs": [
    {
     "name": "stdout",
     "output_type": "stream",
     "text": [
      "Statistics = 3.858960685820355\n",
      "P_Value = 0.4254298144535761\n"
     ]
    }
   ],
   "source": [
    "statistics, pvalue = stats.chisquare(observed, expected, ddof = 3)\n",
    "print(\"Statistics = \",statistics,\"\\n\",'P_Value = ', pvalue,sep='')"
   ]
  },
  {
   "cell_type": "code",
   "execution_count": 36,
   "id": "03574c48",
   "metadata": {},
   "outputs": [
    {
     "name": "stdout",
     "output_type": "stream",
     "text": [
      "0.4254298144535761\n",
      "H1 is rejected and Ho is accepted\n",
      "The percentage of defective order forms does not vary by center.\n"
     ]
    }
   ],
   "source": [
    "# Null Hypothesis for Chi-Square test of Independance\n",
    "print(pvalue)\n",
    "alpha= 0.05\n",
    " \n",
    "#H0 The percentage of defective order forms does not vary by center.\n",
    "#H1 The percentage of defective order forms does vary by center.\n",
    " \n",
    "if pvalue < alpha:\n",
    "    print (\"Due to evidence, Ho is rejected and H1 is accepted. \")\n",
    "    print ('The percentage of defective order forms does vary by center.')\n",
    "else:\n",
    "    print (\"H1 is rejected and Ho is accepted due to a lack of evidence.\")\n",
    "    print ('The percentage of defective order forms does not vary by center.')"
   ]
  },
  {
   "cell_type": "markdown",
   "id": "f6a7bcd0",
   "metadata": {},
   "source": [
    "##### Conclusion:\n",
    "We are unable to rule out the null hypothesis due to a lack of data. The percentage of defective order forms doesn't vary from centre to center."
   ]
  }
 ],
 "metadata": {
  "kernelspec": {
   "display_name": "Python 3 (ipykernel)",
   "language": "python",
   "name": "python3"
  },
  "language_info": {
   "codemirror_mode": {
    "name": "ipython",
    "version": 3
   },
   "file_extension": ".py",
   "mimetype": "text/x-python",
   "name": "python",
   "nbconvert_exporter": "python",
   "pygments_lexer": "ipython3",
   "version": "3.9.13"
  }
 },
 "nbformat": 4,
 "nbformat_minor": 5
}
